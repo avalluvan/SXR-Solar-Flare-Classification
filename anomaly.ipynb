{
 "cells": [
  {
   "cell_type": "code",
   "execution_count": 8,
   "id": "3a477249-a435-47ae-a97c-e8b3b8e09314",
   "metadata": {},
   "outputs": [],
   "source": [
    "import numpy as np\n",
    "import numpy.typing as npt\n",
    "from matplotlib import pyplot as plt\n",
    "from scipy.special import erf\n",
    "import os\n",
    "import pandas as pd\n",
    "from typing import Union\n",
    "from sklearn.metrics import roc_curve, auc\n",
    "\n",
    "import tensorflow as tf\n",
    "from tensorflow.keras.models import Sequential, load_model\n",
    "from tensorflow.keras.layers import LSTM, Conv1D, MaxPooling1D, Flatten, Dense, Dropout, Masking, GlobalMaxPooling1D, Input\n",
    "from tensorflow.keras.preprocessing.sequence import pad_sequences\n",
    "from tensorflow.keras.optimizers import Adam\n",
    "from tensorflow.keras.callbacks import ReduceLROnPlateau\n",
    "\n",
    "gpus = tf.config.experimental.list_physical_devices('GPU')\n",
    "if gpus:\n",
    "    try:\n",
    "        for gpu in gpus:\n",
    "            tf.config.experimental.set_memory_growth(gpu, True)\n",
    "    except RuntimeError as e:\n",
    "        print(e)\n",
    "\n",
    "def EFP(time: np.int32 | npt.NDArray[np.int32], amplitude: np.float64, mu: np.float64, sigma: np.float64, tau: np.float64, a: np.float64, background: np.float64) -> np.float64 | npt.NDArray[np.float64]:\n",
    "    Aprime = amplitude * sigma / (tau * np.sqrt(2 / np.pi))\n",
    "    y1 = -(time - mu) / tau + sigma**2 / (2 * tau**2)\n",
    "    y2 = (time - mu) / (np.sqrt(2) * sigma) - sigma / (np.sqrt(2) * tau)\n",
    "    return Aprime * np.exp(y1) * (1 + erf(y2)) + a * time + background\n",
    "\n",
    "def plot_flare(identifier: str, pred=None, act=None, save_dir=None):\n",
    "    dirname = ''\n",
    "    datafile = f'{dirname}flares/{identifier}.csv'\n",
    "    df = pd.read_csv(datafile)\n",
    "    summaryfile = f'{dirname}allflares_processed_5.csv'\n",
    "    allcsv = pd.read_csv(summaryfile)\n",
    "    row = allcsv[allcsv['identifier'] == identifier].iloc[0]\n",
    "\n",
    "    fig, axs = plt.subplots(2, figsize=(9.6, 9.6), gridspec_kw={'height_ratios': [3, 1]})\n",
    "\n",
    "    if act != None and pred != None:\n",
    "        axs[0].set_title(f\"{identifier}: pred: {pred}, actual: {act}\")\n",
    "    else:\n",
    "        axs[0].set_title(f'{identifier}')\n",
    "    plt.xlabel('Time (s)')\n",
    "    plt.subplots_adjust(hspace=.0)\n",
    "    linestyle = {\"elinewidth\":1, \"capsize\":0, \"ecolor\":\"grey\"}\n",
    "    plt.setp(axs[0].get_xticklabels(), visible=False)\n",
    "\n",
    "    xt = df['Time']\n",
    "    yt = df['Counts']\n",
    "    yerr = df['Error']\n",
    "\n",
    "    axs[0].errorbar(xt, yt, yerr=yerr, fmt='D', ms=3, c='blue', **linestyle)\n",
    "\n",
    "    for ax in axs:\n",
    "        ax.tick_params(which='major', width=1)\n",
    "        ax.tick_params(which='major', length=4)\n",
    "        ax.margins(x=0)\n",
    "    axs[0].set_ylabel('Flux (nW/m$^2$)')\n",
    "    axs[1].set_ylabel('Residual ((o-f)/$\\\\sigma$)')\n",
    "    axs[1].set_ylim(bottom=-4,top=4)\n",
    "\n",
    "    range = (np.max(yt) - np.min(yt))/10\n",
    "    axs[0].scatter(row['start_time'], \\\n",
    "        row['start_count'], c='k', s=30, zorder=15)\n",
    "    axs[0].vlines(x=row['start_time'], \\\n",
    "        ymin=row['start_count'] - range, \\\n",
    "        ymax=row['end_count'] + range, color='k', linestyle='dotted', linewidth=2)\n",
    "    axs[0].scatter(row['end_time'], \\\n",
    "        row['end_count'], c='k', s=30, zorder=15)\n",
    "    axs[0].vlines(x=row['end_time'], \\\n",
    "        ymin=row['end_count'] - range, \\\n",
    "        ymax=row['end_count'] + range, color='k', linestyle='dotted', linewidth=2)\n",
    "\n",
    "    yfit = EFP(xt, row['amplitude'], row['mu'], row['sigma'], row['tau'], row['slope'], row['background'])\n",
    "    axs[0].plot(xt, yfit, c='r', zorder=10, lw=3)\n",
    "    axs[0].tick_params(axis='x', direction='in')\n",
    "    axs[1].errorbar(xt, (yt-yfit)/np.std(yt-yfit), yerr=yerr/np.std(yt-yfit), fmt='D', ms=3, c='blue', **linestyle)\n",
    "    axs[1].axhline(np.mean((yt-yfit)/np.std(yt-yfit)), linestyle='--', lw=1, c='navy')\n",
    "\n",
    "    if save_dir != None:\n",
    "        plt.savefig(save_dir)\n",
    "\n",
    "    plt.show()"
   ]
  },
  {
   "cell_type": "code",
   "execution_count": 60,
   "id": "8edf4e99-e677-49d7-8db1-bdcc0540b285",
   "metadata": {
    "scrolled": true
   },
   "outputs": [
    {
     "name": "stderr",
     "output_type": "stream",
     "text": [
      "/home/mrchu/anaconda3/lib/python3.11/site-packages/keras/src/layers/layer.py:877: UserWarning: Layer 'conv1d_153' (of type Conv1D) was passed an input with a mask attached to it. However, this layer does not support masking and will therefore destroy the mask information. Downstream layers will not see the mask.\n",
      "  warnings.warn(\n",
      "100%|██████████████████████████████████████| 8716/8716 [00:33<00:00, 260.64it/s]\n",
      "/home/mrchu/anaconda3/lib/python3.11/site-packages/keras/src/layers/layer.py:877: UserWarning: Layer 'conv1d_153' (of type Conv1D) was passed an input with a mask attached to it. However, this layer does not support masking and will therefore destroy the mask information. Downstream layers will not see the mask.\n",
      "  warnings.warn(\n"
     ]
    },
    {
     "name": "stdout",
     "output_type": "stream",
     "text": [
      "\u001b[1m35/35\u001b[0m \u001b[32m━━━━━━━━━━━━━━━━━━━━\u001b[0m\u001b[37m\u001b[0m \u001b[1m0s\u001b[0m 8ms/step\n",
      "1090 1090\n",
      "2 170\n",
      "7 7\n"
     ]
    },
    {
     "name": "stderr",
     "output_type": "stream",
     "text": [
      "100%|██████████████████████████████████████| 8716/8716 [00:39<00:00, 218.12it/s]"
     ]
    },
    {
     "name": "stdout",
     "output_type": "stream",
     "text": [
      "\u001b[1m35/35\u001b[0m \u001b[32m━━━━━━━━━━━━━━━━━━━━\u001b[0m\u001b[37m\u001b[0m \u001b[1m0s\u001b[0m 2ms/step\n"
     ]
    },
    {
     "name": "stderr",
     "output_type": "stream",
     "text": [
      "\n"
     ]
    },
    {
     "name": "stdout",
     "output_type": "stream",
     "text": [
      "1090 1090\n",
      "2 175\n",
      "7 7\n"
     ]
    },
    {
     "name": "stderr",
     "output_type": "stream",
     "text": [
      "100%|██████████████████████████████████████| 8716/8716 [00:37<00:00, 231.79it/s]"
     ]
    },
    {
     "name": "stdout",
     "output_type": "stream",
     "text": [
      "\u001b[1m35/35\u001b[0m \u001b[32m━━━━━━━━━━━━━━━━━━━━\u001b[0m\u001b[37m\u001b[0m \u001b[1m0s\u001b[0m 2ms/step\n"
     ]
    },
    {
     "name": "stderr",
     "output_type": "stream",
     "text": [
      "\n"
     ]
    },
    {
     "name": "stdout",
     "output_type": "stream",
     "text": [
      "1090 1090\n",
      "2 173\n",
      "7 7\n"
     ]
    },
    {
     "name": "stderr",
     "output_type": "stream",
     "text": [
      "100%|██████████████████████████████████████| 8716/8716 [00:36<00:00, 235.66it/s]"
     ]
    },
    {
     "name": "stdout",
     "output_type": "stream",
     "text": [
      "\u001b[1m35/35\u001b[0m \u001b[32m━━━━━━━━━━━━━━━━━━━━\u001b[0m\u001b[37m\u001b[0m \u001b[1m0s\u001b[0m 2ms/step\n"
     ]
    },
    {
     "name": "stderr",
     "output_type": "stream",
     "text": [
      "\n"
     ]
    },
    {
     "name": "stdout",
     "output_type": "stream",
     "text": [
      "1090 1090\n",
      "2 169\n",
      "7 7\n"
     ]
    },
    {
     "name": "stderr",
     "output_type": "stream",
     "text": [
      "100%|██████████████████████████████████████| 8716/8716 [00:35<00:00, 242.23it/s]\n"
     ]
    },
    {
     "name": "stdout",
     "output_type": "stream",
     "text": [
      "\u001b[1m35/35\u001b[0m \u001b[32m━━━━━━━━━━━━━━━━━━━━\u001b[0m\u001b[37m\u001b[0m \u001b[1m0s\u001b[0m 2ms/step\n",
      "1090 1090\n",
      "2 169\n",
      "7 7\n"
     ]
    },
    {
     "name": "stderr",
     "output_type": "stream",
     "text": [
      "100%|██████████████████████████████████████| 8716/8716 [00:36<00:00, 241.94it/s]"
     ]
    },
    {
     "name": "stdout",
     "output_type": "stream",
     "text": [
      "\u001b[1m35/35\u001b[0m \u001b[32m━━━━━━━━━━━━━━━━━━━━\u001b[0m\u001b[37m\u001b[0m \u001b[1m0s\u001b[0m 2ms/step\n"
     ]
    },
    {
     "name": "stderr",
     "output_type": "stream",
     "text": [
      "\n"
     ]
    },
    {
     "name": "stdout",
     "output_type": "stream",
     "text": [
      "1090 1090\n",
      "2 175\n",
      "7 7\n"
     ]
    },
    {
     "name": "stderr",
     "output_type": "stream",
     "text": [
      "100%|██████████████████████████████████████| 8716/8716 [00:35<00:00, 246.94it/s]\n"
     ]
    },
    {
     "name": "stdout",
     "output_type": "stream",
     "text": [
      "\u001b[1m35/35\u001b[0m \u001b[32m━━━━━━━━━━━━━━━━━━━━\u001b[0m\u001b[37m\u001b[0m \u001b[1m0s\u001b[0m 2ms/step\n",
      "1090 1090\n",
      "2 176\n",
      "7 7\n"
     ]
    },
    {
     "name": "stderr",
     "output_type": "stream",
     "text": [
      "100%|██████████████████████████████████████| 8716/8716 [00:34<00:00, 255.12it/s]"
     ]
    },
    {
     "name": "stdout",
     "output_type": "stream",
     "text": [
      "\u001b[1m35/35\u001b[0m \u001b[32m━━━━━━━━━━━━━━━━━━━━\u001b[0m\u001b[37m\u001b[0m \u001b[1m0s\u001b[0m 2ms/step\n"
     ]
    },
    {
     "name": "stderr",
     "output_type": "stream",
     "text": [
      "\n"
     ]
    },
    {
     "name": "stdout",
     "output_type": "stream",
     "text": [
      "1090 1090\n",
      "2 172\n",
      "7 7\n"
     ]
    },
    {
     "name": "stderr",
     "output_type": "stream",
     "text": [
      "100%|██████████████████████████████████████| 8716/8716 [00:34<00:00, 255.80it/s]\n"
     ]
    },
    {
     "name": "stdout",
     "output_type": "stream",
     "text": [
      "\u001b[1m35/35\u001b[0m \u001b[32m━━━━━━━━━━━━━━━━━━━━\u001b[0m\u001b[37m\u001b[0m \u001b[1m0s\u001b[0m 2ms/step\n",
      "1090 1090\n",
      "2 159\n",
      "7 7\n"
     ]
    },
    {
     "name": "stderr",
     "output_type": "stream",
     "text": [
      "100%|██████████████████████████████████████| 8716/8716 [00:32<00:00, 272.23it/s]"
     ]
    },
    {
     "name": "stdout",
     "output_type": "stream",
     "text": [
      "\u001b[1m35/35\u001b[0m \u001b[32m━━━━━━━━━━━━━━━━━━━━\u001b[0m\u001b[37m\u001b[0m \u001b[1m0s\u001b[0m 2ms/step\n",
      "1090 1090\n",
      "2 159\n",
      "7 7\n"
     ]
    },
    {
     "name": "stderr",
     "output_type": "stream",
     "text": [
      "\n"
     ]
    }
   ],
   "source": [
    "import pandas as pd\n",
    "from scipy.signal import welch\n",
    "from tqdm import tqdm\n",
    "\n",
    "class_info = pd.read_csv('sim6/fitted_flares.csv')\n",
    "model1 = load_model('model1.keras')\n",
    "val_set = np.genfromtxt('val_ind.txt')\n",
    "\n",
    "fprs = []\n",
    "tprs = []\n",
    "aucs = []\n",
    "mse_a = np.array([])\n",
    "mse_b = np.array([])\n",
    "\n",
    "for c in range(10):\n",
    "    data = []\n",
    "    labels = []\n",
    "    labels_out = []\n",
    "    ids = []\n",
    "    peak_count = []\n",
    "    \n",
    "    tot_flares = 0\n",
    "    maxlen = 0\n",
    "    \n",
    "    lotto_ind = np.random.choice(np.arange(len(val_set)), len(val_set)//3, replace=False)\n",
    "    lotto = val_set[lotto_ind]\n",
    "    \n",
    "    for i, iden in enumerate(tqdm(np.array(class_info['identifier']))):\n",
    "        if i not in val_set:\n",
    "            continue\n",
    "        \n",
    "        try:\n",
    "            tod = pd.read_csv('sim6/binned_flares/' + str(iden) + '.csv')\n",
    "        except FileNotFoundError:\n",
    "            continue\n",
    "    \n",
    "        flag = False\n",
    "        if i in lotto:\n",
    "            \n",
    "            num_to_add = np.random.randint(1, 4)\n",
    "            ind_to_add = []\n",
    "    \n",
    "            counter = 0\n",
    "            while len(ind_to_add) <= num_to_add and counter < 100:\n",
    "                counter += 1\n",
    "                \n",
    "                ind = np.random.randint(1, len(class_info))\n",
    "    \n",
    "                if ind in ind_to_add:\n",
    "                    continue\n",
    "    \n",
    "                tod_to_add = pd.read_csv(f\"sim6/binned_flares/{class_info['identifier'][ind]}.csv\")\n",
    "    \n",
    "                if len(tod_to_add['Counts']) > len(tod['Counts']):\n",
    "                    continue\n",
    "    \n",
    "                if class_info['peak_count'][i] > 3*class_info['peak_count'][ind] or class_info['peak_count'][i] < class_info['peak_count'][ind]:\n",
    "                    continue\n",
    "    \n",
    "                if np.max(tod_to_add['Time']) - np.min(tod_to_add['Time']) > 0.6*(np.max(tod['Time']) - np.min(tod['Time'])):\n",
    "                    continue\n",
    "    \n",
    "                n_zeros = len(tod['Counts']) - len(tod_to_add['Counts'])\n",
    "    \n",
    "                if n_zeros == 0:\n",
    "                    arr_to_add = np.array(tod_to_add['Counts'])*np.hanning(len(tod_to_add['Counts']))\n",
    "                else:\n",
    "                    lead_or_trail = np.random.randint(0, 2)\n",
    "    \n",
    "                    if lead_or_trail == 0:\n",
    "                        n_leading = n_zeros\n",
    "                        n_trailing = 0\n",
    "                    else:\n",
    "                        n_leading = 0\n",
    "                        n_trailing = n_zeros\n",
    "        \n",
    "                    arr_to_add = np.pad(np.array(tod_to_add['Counts'])*np.hanning(len(tod_to_add['Counts'])), (n_leading, n_trailing), 'constant', constant_values=(0, 0))\n",
    "    \n",
    "                tod['Counts'] = np.array(tod['Counts']) + arr_to_add\n",
    "                tod['Counts'] /= np.max(tod['Counts'])\n",
    "    \n",
    "                flag = True\n",
    "    \n",
    "                ind_to_add.append(ind)\n",
    "    \n",
    "        if flag:\n",
    "            plt.figure(figsize=(3.5, 2.5))\n",
    "            plt.tick_params(axis='both', which='major', labelsize=8)\n",
    "            \n",
    "            plt.scatter(tod['Time'], tod['Counts'], s=0.5)\n",
    "\n",
    "            plt.xlabel('Time (s)', fontsize=9)\n",
    "            plt.ylabel('Intensity (nW/m$^2$)', fontsize=9)\n",
    "\n",
    "            plt.savefig('multiflares/' + str(iden) + '.pdf', bbox_inches='tight', pad_inches=0.01)\n",
    "\n",
    "            plt.close()\n",
    "            \n",
    "            labels_out.append(1)\n",
    "        else:\n",
    "            labels_out.append(0)\n",
    "    \n",
    "        if len(tod['Counts']) > maxlen:\n",
    "            maxlen = len(tod['Counts'])\n",
    "    \n",
    "        tot_flares += 1\n",
    "        data.append(list(tod['Counts']))\n",
    "        data_deriv.append(list(np.diff(tod['Counts'])))\n",
    "        peak_count.append(class_info['peak_count'][i])\n",
    "        \n",
    "        if class_info['flare_type'][i] == 'A':\n",
    "            labels.append(0)\n",
    "        else:\n",
    "            labels.append(1)\n",
    "    \n",
    "        ids.append(class_info['identifier'][i])\n",
    "    \n",
    "    data = pad_sequences(data, padding='post', dtype=float, maxlen=2089)   # the padding is to adjust the shape of the np arrays\n",
    "\n",
    "    preds = model1.predict(np.expand_dims(data, axis=-1))\n",
    "\n",
    "    mse = (preds.flatten() - np.array(labels))**2\n",
    "\n",
    "    fpr, tpr, thresh = roc_curve(labels_out, mse)\n",
    "    auc_val = auc(fpr, tpr)\n",
    "\n",
    "    fprs.append(fpr)\n",
    "    tprs.append(tpr)\n",
    "    aucs.append(auc_val)\n",
    "    mse_a = np.concatenate((mse_a, mse[np.array(labels_out)==0]))\n",
    "    mse_b = np.concatenate((mse_b, mse[np.array(labels_out)==1]))"
   ]
  },
  {
   "cell_type": "code",
   "execution_count": 61,
   "id": "c6718402-5bb1-4f34-aa3a-371920ddd76b",
   "metadata": {},
   "outputs": [
    {
     "data": {
      "image/png": "[encoded data removed]",
      "text/plain": [
       "<Figure size 700x250 with 2 Axes>"
      ]
     },
     "metadata": {},
     "output_type": "display_data"
    }
   ],
   "source": [
    "plt.rcParams['font.family'] = 'serif'\n",
    "\n",
    "fig, (ax1, ax2) = plt.subplots(1, 2, figsize=(7, 2.5))\n",
    "\n",
    "for c in range(10):\n",
    "    ax1.plot(fprs[c], tprs[c], color='darkorange', lw=2, alpha=0.5)\n",
    "\n",
    "ax1.plot([0, 1], [0, 1], color='navy', lw=2, linestyle='--')\n",
    "\n",
    "ax1.text(0.99, 0.03, r\"$\\mathrm{AUC} \\approx \" + str(np.round(np.mean(aucs)*100, 1)) + '\\%$', ha='right', transform=ax1.transAxes, fontsize=8)\n",
    "\n",
    "ax1.set_xlim([0.0, 1.0])\n",
    "ax1.set_ylim([0.0, 1.0])\n",
    "\n",
    "ax1.set_xlabel('False Positive Rate', fontsize=9)\n",
    "ax1.set_ylabel('True Positive Rate', fontsize=9)\n",
    "ax1.set_title('ROC', fontsize=10)\n",
    "\n",
    "ax1.tick_params(axis='both', which='major', labelsize=8)\n",
    "\n",
    "ax2.hist(mse_a, bins=np.linspace(0, 1, 21), histtype='step', color='r', label='Single Flare')\n",
    "ax2.hist(mse_b, bins=np.linspace(0, 1, 21), histtype='step', color='b', label='Multi-Flare')\n",
    "\n",
    "ax2.legend(fontsize=8, loc='upper right', frameon=False)\n",
    "\n",
    "ax2.set_xlabel('Mean Squared Error', fontsize=9)\n",
    "\n",
    "ax2.set_title('Histogram', fontsize=10)\n",
    "\n",
    "ax2.tick_params(axis='both', which='major', labelsize=8)\n",
    "\n",
    "plt.savefig('anomaly.pdf', bbox_inches='tight', pad_inches=0.01)\n",
    "\n",
    "plt.show()"
   ]
  },
  {
   "cell_type": "code",
   "execution_count": null,
   "id": "39f81b5d-da1b-44e5-a5f3-847e113e3346",
   "metadata": {},
   "outputs": [],
   "source": []
  }
 ],
 "metadata": {
  "kernelspec": {
   "display_name": "Python 3 (ipykernel)",
   "language": "python",
   "name": "python3"
  },
  "language_info": {
   "codemirror_mode": {
    "name": "ipython",
    "version": 3
   },
   "file_extension": ".py",
   "mimetype": "text/x-python",
   "name": "python",
   "nbconvert_exporter": "python",
   "pygments_lexer": "ipython3",
   "version": "3.11.7"
  }
 },
 "nbformat": 4,
 "nbformat_minor": 5
}
